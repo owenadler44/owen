{
  "cells": [
    {
      "metadata": {},
      "cell_type": "markdown",
      "source": "# Now You Code 2: House Depot Paint Estimator\n\nThe big-box hardware store *House Depot* has contracted you to write an App to estimate the amount of paint required to paint a room. Given that 1 gallon of paint covers 400 square feet, you must output the number of paint cans required to paint a rectangular room.\n\nThe program should input:\n\n- the length of the room in feet, \n- the width of the room in feet,\n- the height of the room in feet\n\nThe program should output:\n\n- total area to be painted (sum of each of the 4 walls, multiplied by the height of the room)\n- the number of gallons of paint required to paint the room.\n\nExample:\n\n```\nEnter length of room: 12\nEnter width of room: 14\nEnter height of room: 8\nTotal area to be painted: 416.00\nTotal gallons of paint requried: 2\n```\n\nHINT: Use the `math.ceil()` function to round up your number of gallons to the nearest whole number. You cannot sell fractional cans of paint!\n"
    },
    {
      "metadata": {},
      "cell_type": "markdown",
      "source": "## Step 1: Problem Analysis\n\nInputs:length of the room in feet\nwidth of the room in feet\nheight of the room in feet\n\nOutputs:total area to be painted (sum of each of the 4 walls, multiplied by the height of the room) \nthe number of gallons of paint required to paint the roo \n\nAlgorithm (Steps in Program):\nenter the length of the room in feet\nenter the width of the room in feet\nenter the height of the room in feet\nadd length and eidth , multiply by height, multiply by width multipled by 2\ndivide are by 400 and round up \nprint are and number of gallons\n"
    },
    {
      "metadata": {
        "trusted": true
      },
      "cell_type": "code",
      "source": "import math # you need this to use math.ceil(), so we wrote this part of the code for you!!! LEAVE IT HERE!\n# Step 2: write code here\nlength_room = float(input(\"enter length of room in feet: \"))\nwidth_room = float(input(\"enter width of room in feet: \"))\nheight_room = float(input(\"enter height of room in feet: \"))\ntotal_area = (length_room + width_room) * height_room *2\ntotal_gallons = math.ceil(total_area / 400)\nprint(\"total area: \", total_area)\nprint(\"total gallons required\", total_gallons )",
      "execution_count": 2,
      "outputs": [
        {
          "output_type": "stream",
          "name": "stdout",
          "text": "enter length of room in feet: 14\nenter width of room in feet: 12\nenter height of room in feet: 8\ntotal area:  416.0\ntotal gallons required 2\n"
        }
      ]
    },
    {
      "metadata": {},
      "cell_type": "markdown",
      "source": "## Step 3: Questions\n\n1. Why does the program still run when you enter a negative number for length?\n2. Does the output make sense when you enter a negative length? Why type of error is this?\n3. Why do we use `math.ceil()` in this program? In other words are you allowed to buy 3.75 gallons of paint?\n"
    },
    {
      "metadata": {},
      "cell_type": "markdown",
      "source": "## Reminder of Evaluation Criteria\n\n1. Was the problem attempted (analysis, code, and answered questions) ?\n2. Was the problem analysis thought out? (does the program match the plan?)\n3. Does the code execute without syntax error?\n4. Does the code solve the intended problem?\n5. Is the code well written? (easy to understand, modular, and self-documenting, handles errors)\n"
    },
    {
      "metadata": {
        "collapsed": true,
        "trusted": false
      },
      "cell_type": "code",
      "source": "",
      "execution_count": null,
      "outputs": []
    }
  ],
  "metadata": {
    "anaconda-cloud": {},
    "kernelspec": {
      "name": "python3",
      "display_name": "Python 3",
      "language": "python"
    },
    "language_info": {
      "mimetype": "text/x-python",
      "nbconvert_exporter": "python",
      "name": "python",
      "pygments_lexer": "ipython3",
      "version": "3.5.4",
      "file_extension": ".py",
      "codemirror_mode": {
        "version": 3,
        "name": "ipython"
      }
    }
  },
  "nbformat": 4,
  "nbformat_minor": 1
}