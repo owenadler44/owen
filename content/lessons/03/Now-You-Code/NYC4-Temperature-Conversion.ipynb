{
  "cells": [
    {
      "metadata": {},
      "cell_type": "markdown",
      "source": "# Now You Code 4: Temperature Conversion\n\nWrite a python program which will convert temperatures from Celcius to Fahrenheit.\nThe program should take a temperature in degrees Celcius as input and output a temperature in degrees Fahrenheit.\n\nExample:\n\n```\nEnter the temperature in Celcius: 100\n100 Celcius is 212 Fahrenheit\n```\n\nHINT: Search the web to find the formula to convert from Celcius to Fahrenheit.\n"
    },
    {
      "metadata": {},
      "cell_type": "markdown",
      "source": "## Step 1: Problem Analysis\n\nInputs:temp in celcius\n\nOutputs: temp in fahrenheit\n\nAlgorithm (Steps in Program):\nask for temp in celcius \nconvert celcius to farhenheit\nprint fahrenheit\n\n\n"
    },
    {
      "metadata": {
        "trusted": true
      },
      "cell_type": "code",
      "source": "# Step 2: write code here\ncelcius = float(input(\"enter the temperature in celcius; \"))\nfahrenheit = celcius * (9/5)+32\nprint(\"%.1f celcius is %.1f in fahrenheit\" % (celcius, fahrenheit))\n",
      "execution_count": 1,
      "outputs": [
        {
          "output_type": "stream",
          "name": "stdout",
          "text": "enter the temperature in celcius; 100\n100.0 celcius is 212.0 in fahrenheit\n"
        }
      ]
    },
    {
      "metadata": {},
      "cell_type": "markdown",
      "source": "## Step 3: Questions\n\n1. Why does the program still run when you enter a negative number for temperature? Is this an error?\n2. Would it be difficult to write a program which did the opposite (conversion F to C)? Explain.\n3. Did you store the conversion in a variable before printing it on the last line? I argue this makes your program easier to understand. Why?\n"
    },
    {
      "metadata": {},
      "cell_type": "markdown",
      "source": "## Reminder of Evaluation Criteria\n\n1. Was the problem attempted (analysis, code, and answered questions) ?\n2. Was the problem analysis thought out? (does the program match the plan?)\n3. Does the code execute without syntax error?\n4. Does the code solve the intended problem?\n5. Is the code well written? (easy to understand, modular, and self-documenting, handles errors)\n"
    },
    {
      "metadata": {
        "collapsed": true,
        "trusted": false
      },
      "cell_type": "code",
      "source": "",
      "execution_count": null,
      "outputs": []
    }
  ],
  "metadata": {
    "anaconda-cloud": {},
    "kernelspec": {
      "name": "python3",
      "display_name": "Python 3",
      "language": "python"
    },
    "language_info": {
      "mimetype": "text/x-python",
      "nbconvert_exporter": "python",
      "name": "python",
      "file_extension": ".py",
      "version": "3.5.4",
      "pygments_lexer": "ipython3",
      "codemirror_mode": {
        "version": 3,
        "name": "ipython"
      }
    }
  },
  "nbformat": 4,
  "nbformat_minor": 1
}