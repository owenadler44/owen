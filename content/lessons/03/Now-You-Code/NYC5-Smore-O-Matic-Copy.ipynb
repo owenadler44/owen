{
  "cells": [
    {
      "metadata": {},
      "cell_type": "markdown",
      "source": "# Now You Code 5: Smore O' Matic\n\nA smore https://en.wikipedia.org/wiki/S%27more is a popular campfire treat consisting of marshmellows, chocolate bars, and graham crackers. \n\n- Each smore requires 1 marshmallow. There are 60 marshmallows in a bag.\n- Each smore requires 1 graham cracker square. There are 32 squares in a box of graham crackers.\n- Each smore requires 1 section of chocolate. There are 24 sections of chocolate in package. \n\nSo with 1 bag of marshmallows, 1 box of graham crackers, and 1 package of chocolate you can only make 24 smores (and you'll have 8 leftover crackers and 36 marshmallows).\n\nWrite a program which inputs the costs of the 1 bag of marshmallows, 1 box of graham crackers, an 1 package of chocolate, then calculates total cost and cost per smore.\n\nExample:\n\n```\nCost-per-smore calculator:\n\nInput the cost of your 1 bag of marshmallows: 2.79\nInput the cost of your 1 box of graham crackers: 2.99\nInput the cost of your 1 package of chocolate: 3.49\n\nTotal cost of items: 9.27\nCost per smore: 0.39\n```"
    },
    {
      "metadata": {},
      "cell_type": "markdown",
      "source": "## Step 1: Problem Analysis\n\nInputs:\n\nOutputs:\n\nAlgorithm (Steps in Program):\n\n\n"
    },
    {
      "metadata": {
        "trusted": false
      },
      "cell_type": "code",
      "source": "# Step 2: write code here\n\n",
      "execution_count": 1,
      "outputs": []
    },
    {
      "metadata": {},
      "cell_type": "markdown",
      "source": "## Step 3: Questions\n\n1. Which product is wasted the most when making smores?\nthe marshamllo\n2. Does the output make sense when you enter a negative prices ? Why type of error is this?\n3. What is one way this program could be re-written to get the cost per smore lower?\nbe able to enter quantity \n"
    },
    {
      "metadata": {},
      "cell_type": "markdown",
      "source": "## Reminder of Evaluation Criteria\n\n1. Was the problem attempted (analysis, code, and answered questions) ?\n2. Was the problem analysis thought out? (does the program match the plan?)\n3. Does the code execute without syntax error?\n4. Does the code solve the intended problem?\n5. Is the code well written? (easy to understand, modular, and self-documenting, handles errors)\n"
    },
    {
      "metadata": {
        "collapsed": true,
        "trusted": false
      },
      "cell_type": "code",
      "source": "",
      "execution_count": null,
      "outputs": []
    }
  ],
  "metadata": {
    "anaconda-cloud": {},
    "kernelspec": {
      "name": "python3",
      "display_name": "Python 3",
      "language": "python"
    },
    "language_info": {
      "mimetype": "text/x-python",
      "nbconvert_exporter": "python",
      "name": "python",
      "pygments_lexer": "ipython3",
      "version": "3.5.4",
      "file_extension": ".py",
      "codemirror_mode": {
        "version": 3,
        "name": "ipython"
      }
    }
  },
  "nbformat": 4,
  "nbformat_minor": 1
}