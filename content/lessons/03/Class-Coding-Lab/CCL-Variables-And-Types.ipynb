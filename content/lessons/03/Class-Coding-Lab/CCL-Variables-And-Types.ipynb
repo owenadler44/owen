{
  "cells": [
    {
      "metadata": {},
      "cell_type": "markdown",
      "source": "# Inter-Class Coding Lab: Variables And Types\n\nThe goals of this lab are to help you to understand:\n\n1. Python data types\n1. Getting input as different types\n1. Formatting output as different types\n1. Basic arithmetic operators\n1. How to create a program from an idea."
    },
    {
      "metadata": {
        "collapsed": true
      },
      "cell_type": "markdown",
      "source": "## Variable Types\n\nEvery Python variable has a **type**. The Type determines how the data is stored in the computer's memory: "
    },
    {
      "metadata": {
        "trusted": false
      },
      "cell_type": "code",
      "source": "a = \"4\"\ntype(a) # should be str",
      "execution_count": null,
      "outputs": []
    },
    {
      "metadata": {
        "trusted": false
      },
      "cell_type": "code",
      "source": "a = 4\ntype(a) # should be int",
      "execution_count": null,
      "outputs": []
    },
    {
      "metadata": {},
      "cell_type": "markdown",
      "source": "### Types Matter \n\nPython's built in functions and operators work differently depending on the type of the variable.:"
    },
    {
      "metadata": {
        "trusted": false
      },
      "cell_type": "code",
      "source": "a = 4\nb = 5\na + b # this plus in this case means add so 9",
      "execution_count": null,
      "outputs": []
    },
    {
      "metadata": {
        "trusted": false
      },
      "cell_type": "code",
      "source": "a = \"4\"\nb = \"5\"\na + b # the plus + in this case means concatenation, so '45'",
      "execution_count": null,
      "outputs": []
    },
    {
      "metadata": {},
      "cell_type": "markdown",
      "source": "### Switching Types\n\nthere are built-in Python functions for switching types. For example:"
    },
    {
      "metadata": {
        "trusted": false
      },
      "cell_type": "code",
      "source": "x = \"45\" # x is a str\ny = int(x)  # y is now an int\nz = float(x) # z is a float\nprint(x,y,z)",
      "execution_count": null,
      "outputs": []
    },
    {
      "metadata": {},
      "cell_type": "markdown",
      "source": "### Inputs type str\n\nWhen you use the `input()` function the result is of type `str`:\n"
    },
    {
      "metadata": {
        "trusted": false
      },
      "cell_type": "code",
      "source": "age = input(\"Enter your age: \")\ntype(age)",
      "execution_count": null,
      "outputs": []
    },
    {
      "metadata": {},
      "cell_type": "markdown",
      "source": "We can use a built in Python function to convert the type from `str` to our desired type:"
    },
    {
      "metadata": {
        "trusted": false
      },
      "cell_type": "code",
      "source": "age = input(\"Enter your age: \")\nage = int(age)\ntype(age)",
      "execution_count": null,
      "outputs": []
    },
    {
      "metadata": {},
      "cell_type": "markdown",
      "source": "We typically combine the first two lines into one expression like this:"
    },
    {
      "metadata": {
        "trusted": false
      },
      "cell_type": "code",
      "source": "age = int(input(\"Enter your age: \"))\ntype(age)",
      "execution_count": null,
      "outputs": []
    },
    {
      "metadata": {},
      "cell_type": "markdown",
      "source": "## Now Try This:\n\nWrite a program to:\n\n- input your age, convert it to an int and store it in a variable\n- add one to your age, store it in another variable\n- print out your current age and your age next year.\n\nFor example:\n```\nEnter your age: 45\nToday you are 45 next year you will be 46\n```"
    },
    {
      "metadata": {
        "trusted": false
      },
      "cell_type": "code",
      "source": "# TODO: Write your code here\n",
      "execution_count": null,
      "outputs": []
    },
    {
      "metadata": {},
      "cell_type": "markdown",
      "source": "## Format Codes\n\nPython has some string format codes which allow us to control the output of our variables. \n\n- %s = format variable as str\n- %d = format variable as int\n- %f = format variable as float\n\nYou can also include the number of spaces to use for example `%5.2f` prints a float with 5 spaces 2 to the right of the decimal point."
    },
    {
      "metadata": {
        "trusted": false
      },
      "cell_type": "code",
      "source": "name = \"Mike\"\nage = 45\ngpa = 3.4\nprint(\"%s is %d years old. His gpa is %.3f\" % (name, age,gpa))",
      "execution_count": null,
      "outputs": []
    },
    {
      "metadata": {},
      "cell_type": "markdown",
      "source": "## Now Try This:\n\nPrint the PI variable out 3 times. Once as a string, once as an int and once as a float to 4 decimal places:"
    },
    {
      "metadata": {
        "trusted": false
      },
      "cell_type": "code",
      "source": "PI = 3.1415927\n#TODO: Write Code Here\n",
      "execution_count": null,
      "outputs": []
    },
    {
      "metadata": {},
      "cell_type": "markdown",
      "source": "## Putting it all together: Fred's Fence Estimator\n\nFred's Fence has hired you to write a program to  estimate the cost of their fencing projects. For a given length and width you will calculate the number of 6 foot fence sections, and the total cost of the project. Each fence section costs $23.95. Assume the posts and labor are free.\n\nProgram Inputs:\n\n- Length of yard in feet\n- Width of yard in feet\n    \nProgram Outputs:\n\n- Perimeter of yard ( 2 x (Length + Width))\n- Number of fence sections required (Permiemer divided by 6 )\n- Total cost for fence ( fence sections multiplied by $23.95 )\n    \nNOTE: All outputs should be formatted to 2 decimal places: e.g. 123.05 "
    },
    {
      "metadata": {
        "trusted": false
      },
      "cell_type": "code",
      "source": "#TODO:\n# 1. Input length of yard as float, assign to a variable\n# 2. Input Width of yard as float, assign to a variable\n# 3. Calculate perimeter of yard, assign to a variable\n# 4. calculate number of fence sections, assign to a variable \n# 5. calculate total cost, assign to variable\n# 6. print perimeter of yard\n# 7. print number of fence sections\n# 8. print total cost for fence. ",
      "execution_count": null,
      "outputs": []
    },
    {
      "metadata": {},
      "cell_type": "markdown",
      "source": "## Now Try This\n\nBased on the provided TODO, write the program in python in the cell below. Your solution should have 8 lines of code, one for each TODO.\n\n**HINT**: Don't try to write the program in one sitting. Instead write a line of code, run it, verify it works and fix any issues with it before writing the next line of code. "
    },
    {
      "metadata": {
        "trusted": false
      },
      "cell_type": "code",
      "source": "# TODO: Write your code here\n",
      "execution_count": null,
      "outputs": []
    }
  ],
  "metadata": {
    "anaconda-cloud": {},
    "kernelspec": {
      "name": "python3",
      "display_name": "Python 3",
      "language": "python"
    },
    "language_info": {
      "mimetype": "text/x-python",
      "nbconvert_exporter": "python",
      "name": "python",
      "pygments_lexer": "ipython3",
      "version": "3.5.4",
      "file_extension": ".py",
      "codemirror_mode": {
        "version": 3,
        "name": "ipython"
      }
    }
  },
  "nbformat": 4,
  "nbformat_minor": 1
}